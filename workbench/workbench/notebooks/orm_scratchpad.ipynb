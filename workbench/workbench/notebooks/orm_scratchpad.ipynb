{
 "cells": [
  {
   "cell_type": "code",
   "metadata": {
    "ExecuteTime": {
     "end_time": "2024-06-11T13:35:37.081772Z",
     "start_time": "2024-06-11T13:35:37.043135Z"
    }
   },
   "source": [
    "from sqlalchemy import create_engine\n",
    "from sqlalchemy.orm import sessionmaker\n",
    "from sqlalchemy.sql import text\n",
    "\n",
    "from workbench.alchemy.orm_tables import Base, Image, Tag"
   ],
   "outputs": [],
   "execution_count": 32
  },
  {
   "cell_type": "code",
   "metadata": {
    "ExecuteTime": {
     "end_time": "2024-06-11T13:35:37.132004Z",
     "start_time": "2024-06-11T13:35:37.086503Z"
    }
   },
   "source": [
    "engine = create_engine(\"sqlite:///:memory:\")\n",
    "Base.metadata.create_all(engine)\n",
    "\n",
    "Session = sessionmaker(bind=engine)\n",
    "session = Session()"
   ],
   "outputs": [],
   "execution_count": 33
  },
  {
   "cell_type": "code",
   "metadata": {
    "ExecuteTime": {
     "end_time": "2024-06-11T13:35:37.138195Z",
     "start_time": "2024-06-11T13:35:37.134013Z"
    }
   },
   "source": [],
   "outputs": [],
   "execution_count": 33
  },
  {
   "cell_type": "code",
   "metadata": {
    "ExecuteTime": {
     "end_time": "2024-06-11T13:35:37.144938Z",
     "start_time": "2024-06-11T13:35:37.139937Z"
    }
   },
   "source": [
    "sea_otter_tag = Tag(tag=\"sea_otter\")\n",
    "river_otter_tag = Tag(tag=\"river_otter\")\n",
    "urchin_tag = Tag(tag=\"sea_urchin\")"
   ],
   "outputs": [],
   "execution_count": 34
  },
  {
   "cell_type": "code",
   "metadata": {
    "ExecuteTime": {
     "end_time": "2024-06-11T13:35:37.153277Z",
     "start_time": "2024-06-11T13:35:37.148948Z"
    }
   },
   "source": [
    "new_image = Image(\n",
    "    hexdigest=\"abcdef123456\",\n",
    "    hashwords=\"example hashwords\",\n",
    "    filepath=\"/path/to/image.jpg\",\n",
    ")"
   ],
   "outputs": [],
   "execution_count": 35
  },
  {
   "cell_type": "code",
   "metadata": {
    "ExecuteTime": {
     "end_time": "2024-06-11T13:35:37.160487Z",
     "start_time": "2024-06-11T13:35:37.155864Z"
    }
   },
   "source": [
    "new_image.tags.append(sea_otter_tag)\n",
    "new_image.tags.append(urchin_tag)"
   ],
   "outputs": [],
   "execution_count": 36
  },
  {
   "cell_type": "code",
   "metadata": {
    "ExecuteTime": {
     "end_time": "2024-06-11T13:35:37.181270Z",
     "start_time": "2024-06-11T13:35:37.162749Z"
    }
   },
   "source": [
    "session.add(new_image)\n",
    "session.commit()"
   ],
   "outputs": [],
   "execution_count": 37
  },
  {
   "cell_type": "code",
   "metadata": {
    "ExecuteTime": {
     "end_time": "2024-06-11T13:35:37.185524Z",
     "start_time": "2024-06-11T13:35:37.183150Z"
    }
   },
   "source": [],
   "outputs": [],
   "execution_count": 37
  },
  {
   "cell_type": "code",
   "metadata": {
    "ExecuteTime": {
     "end_time": "2024-06-11T13:35:37.195926Z",
     "start_time": "2024-06-11T13:35:37.187005Z"
    }
   },
   "source": [
    "# Select * from images\n",
    "with session.begin():\n",
    "    qry = text(\"select * from images\")\n",
    "    result = session.execute(qry)\n",
    "    \n",
    "for row in result:\n",
    "    print(row)"
   ],
   "outputs": [
    {
     "name": "stdout",
     "output_type": "stream",
     "text": [
      "('abcdef123456', 'example hashwords', '/path/to/image.jpg')\n"
     ]
    }
   ],
   "execution_count": 38
  },
  {
   "cell_type": "code",
   "metadata": {
    "ExecuteTime": {
     "end_time": "2024-06-11T13:44:17.084780Z",
     "start_time": "2024-06-11T13:44:17.080804Z"
    }
   },
   "source": [
    "with engine.connect() as conn:\n",
    "    qry = text(\"select * from image_tags where tag = '{relevant_tag}'\")\n",
    "    result = conn.execute(qry,parameters={\n",
    "        \"relevant_tag\": \"sea_otter\"\n",
    "    })\n",
    "    \n",
    "for row in result:\n",
    "    print(row)"
   ],
   "outputs": [],
   "execution_count": 41
  },
  {
   "cell_type": "code",
   "metadata": {
    "ExecuteTime": {
     "end_time": "2024-06-11T13:45:37.343957Z",
     "start_time": "2024-06-11T13:45:37.340096Z"
    }
   },
   "source": [
    "with engine.connect() as conn:\n",
    "    qry = text(\"select * from image_tags where tag = '{relevant_tag}'\")\n",
    "    qry.params()\n",
    "    "
   ],
   "outputs": [],
   "execution_count": 42
  },
  {
   "metadata": {
    "ExecuteTime": {
     "end_time": "2024-06-11T19:36:58.309222Z",
     "start_time": "2024-06-11T19:36:58.298273Z"
    }
   },
   "cell_type": "code",
   "source": "",
   "outputs": [],
   "execution_count": 42
  },
  {
   "metadata": {
    "ExecuteTime": {
     "end_time": "2024-06-11T19:36:58.471049Z",
     "start_time": "2024-06-11T19:36:58.468707Z"
    }
   },
   "cell_type": "code",
   "source": "# Query the images table using the ORM\n",
   "outputs": [],
   "execution_count": 42
  },
  {
   "metadata": {},
   "cell_type": "code",
   "outputs": [],
   "execution_count": null,
   "source": ""
  }
 ],
 "metadata": {
  "kernelspec": {
   "display_name": ".venv",
   "language": "python",
   "name": "python3"
  },
  "language_info": {
   "codemirror_mode": {
    "name": "ipython",
    "version": 3
   },
   "file_extension": ".py",
   "mimetype": "text/x-python",
   "name": "python",
   "nbconvert_exporter": "python",
   "pygments_lexer": "ipython3",
   "version": "3.12.1"
  }
 },
 "nbformat": 4,
 "nbformat_minor": 2
}
